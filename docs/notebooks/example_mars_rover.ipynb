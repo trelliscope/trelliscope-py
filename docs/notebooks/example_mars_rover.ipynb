{
 "cells": [
  {
   "cell_type": "markdown",
   "id": "fa54ebe9-767a-439b-8104-db3794c74d5b",
   "metadata": {},
   "source": [
    "# Example: Mars rover\n",
    "\n",
    "Learn how to create a Trelliscope display of images from the Mars rover Curiosity."
   ]
  },
  {
   "cell_type": "markdown",
   "id": "d0321d83-4f7e-4d9e-b6c3-69226a1ec7f5",
   "metadata": {},
   "source": [
    "![Example mars rover trelliscope image](../_static/mars_rover_example_output.png)"
   ]
  },
  {
   "cell_type": "markdown",
   "id": "6fb26133-8829-44cb-948b-ceaa9f7504a4",
   "metadata": {
    "tags": []
   },
   "source": [
    "## Pre-Generated Images\n",
    "\n",
    "The basic principle behind the Trelliscope package is that you specify a data frame that contains figures or images. We refer to each plot (row) of a given visualization (column) as a **panel**, and hence will often refer to a visualization column as a collection of panels.\n",
    "\n",
    "The simplest way to illustrate what is meant by a data frame of visualizations is to start with an example where the images have already been generated.\n",
    "\n",
    "An example dataset that comes with the package contains images captured by the Mars rover Curiosity."
   ]
  },
  {
   "cell_type": "markdown",
   "id": "ec010c9c-5904-48d5-b3b3-69422a787cd5",
   "metadata": {},
   "source": [
    "## Creating a Trelliscope\n",
    "This data frame has a column that references images on the web, img_src. The other columns contain metadata about these images. We can create a Trelliscope object, write its display information out to the file system, and view it in a browser with the following:"
   ]
  },
  {
   "cell_type": "code",
   "execution_count": null,
   "id": "80d89436-4e30-4318-a54c-b2d120b9bd02",
   "metadata": {},
   "outputs": [],
   "source": [
    "from trelliscope import Trelliscope\n",
    "from trelliscope.examples.get_data import get_example_data\n",
    "\n",
    "# load example data\n",
    "df_mars = get_example_data(\"mars_rover\")\n",
    "\n",
    "# Create Trelliscope and open it in a new browser tab\n",
    "tr = (\n",
    "    Trelliscope(df_mars, name=\"Mars Rover\")\n",
    "    .write_display()\n",
    "    .view_trelliscope()\n",
    ")"
   ]
  },
  {
   "cell_type": "code",
   "execution_count": null,
   "id": "1270d3f7-ab5b-48c5-9dab-c234e38550a0",
   "metadata": {},
   "outputs": [],
   "source": [
    "df_mars.head()"
   ]
  },
  {
   "cell_type": "code",
   "execution_count": null,
   "id": "55b0ffe2-9571-4a11-94d3-98804623cf6f",
   "metadata": {},
   "outputs": [],
   "source": []
  }
 ],
 "metadata": {
  "kernelspec": {
   "display_name": "Python [conda env:trelliscope-py]",
   "language": "python",
   "name": "conda-env-trelliscope-py-py"
  },
  "language_info": {
   "codemirror_mode": {
    "name": "ipython",
    "version": 3
   },
   "file_extension": ".py",
   "mimetype": "text/x-python",
   "name": "python",
   "nbconvert_exporter": "python",
   "pygments_lexer": "ipython3",
   "version": "3.10.13"
  }
 },
 "nbformat": 4,
 "nbformat_minor": 5
}
