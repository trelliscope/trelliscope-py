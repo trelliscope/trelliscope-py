{
 "cells": [
  {
   "cell_type": "markdown",
   "id": "ce847b74-b6f5-4e54-9552-dd5deae26b6b",
   "metadata": {},
   "source": [
    "## Example: fruit images from urls\n",
    "\n",
    "This example shows how a Trelliscope can be created to view images of fruit and their attributes.\n",
    "\n",
    "We create a dataset of fruit with images and 4 meta attributes: [`name`, `size`, `weight`, `color`]. "
   ]
  },
  {
   "cell_type": "markdown",
   "id": "41d39450-c7cb-4e20-a3f0-d20d79231b97",
   "metadata": {},
   "source": [
    "### Fruit data"
   ]
  },
  {
   "cell_type": "code",
   "execution_count": null,
   "id": "887301fb-6c21-49e6-bd5d-6e36fed95bcb",
   "metadata": {},
   "outputs": [],
   "source": [
    "import pandas as pd\n",
    "\n",
    "from trelliscope import Trelliscope\n",
    "\n",
    "\n",
    "df = pd.DataFrame([\n",
    "    {\n",
    "        \"name\": \"apple\",\n",
    "        \"size\": 1,\n",
    "        \"weight\": 3,\n",
    "        \"color\": \"red\",\n",
    "        \"img\": \"https://upload.wikimedia.org/wikipedia/commons/1/15/Red_Apple.jpg\"\n",
    "    },\n",
    "    {\n",
    "        \"name\": \"banana\",\n",
    "        \"size\": 3,\n",
    "        \"weight\": 2,\n",
    "        \"color\": \"yellow\",\n",
    "        \"img\": \"https://upload.wikimedia.org/wikipedia/commons/4/44/Bananas_white_background_DS.jpg\"\n",
    "    },\n",
    "    {\n",
    "        \"name\": \"pineapple\",\n",
    "        \"size\": 5,\n",
    "        \"weight\": 6,\n",
    "        \"color\": \"brown\",\n",
    "        \"img\": \"https://upload.wikimedia.org/wikipedia/commons/2/20/Ananas_01.JPG\"\n",
    "    }\n",
    "])\n",
    "df"
   ]
  },
  {
   "cell_type": "markdown",
   "id": "9e772884-7cd9-4e89-88e9-314df5f22985",
   "metadata": {},
   "source": [
    "### Create Trelliscope\n",
    "\n",
    "Create a Trelliscope object by passing a dataframe and a display name. \n",
    "\n",
    "Trelliscope will be able to infer what column contains the image, and which columns contain attributes."
   ]
  },
  {
   "cell_type": "code",
   "execution_count": null,
   "id": "bcbb4f56-f502-4da7-aee8-6fc30034247e",
   "metadata": {},
   "outputs": [],
   "source": [
    "display_name = \"Fruit\"\n",
    "tr = Trelliscope(df, display_name).write_display()\n",
    "tr"
   ]
  },
  {
   "cell_type": "markdown",
   "id": "55d143e5-6aa6-4156-bfb6-af4ee12d4d9c",
   "metadata": {},
   "source": [
    "### View output\n",
    "\n",
    "The output can be shown by opening a new browser tab. "
   ]
  },
  {
   "cell_type": "code",
   "execution_count": null,
   "id": "d03f56d2-90fa-4822-84b3-b798cb68b6cc",
   "metadata": {},
   "outputs": [],
   "source": [
    "tr.view_trelliscope()  # Opens browser tab"
   ]
  },
  {
   "cell_type": "markdown",
   "id": "24f7f1f7-7bf6-413d-b354-996e3acfd3ce",
   "metadata": {},
   "source": [
    "Or you can go to the output directory and open the `index.html` file. You can configure the output directory by passing `Trelliscope(..., path=\"my-trelliscope/\")`"
   ]
  }
 ],
 "metadata": {
  "kernelspec": {
   "display_name": "Python [conda env:trelliscope-py]",
   "language": "python",
   "name": "conda-env-trelliscope-py-py"
  },
  "language_info": {
   "codemirror_mode": {
    "name": "ipython",
    "version": 3
   },
   "file_extension": ".py",
   "mimetype": "text/x-python",
   "name": "python",
   "nbconvert_exporter": "python",
   "pygments_lexer": "ipython3",
   "version": "3.10.13"
  }
 },
 "nbformat": 4,
 "nbformat_minor": 5
}
