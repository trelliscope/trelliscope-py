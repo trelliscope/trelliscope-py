{
 "cells": [
  {
   "cell_type": "markdown",
   "id": "3c674101a1106ffe",
   "metadata": {},
   "source": [
    "# Quickstart\n",
    "\n",
    "| This package and this documentation is under active development. |\n",
    "|------------------------------------------------------------------|"
   ]
  },
  {
   "cell_type": "markdown",
   "id": "3deae465eb3eec9f",
   "metadata": {},
   "source": [
    "## Install "
   ]
  },
  {
   "cell_type": "markdown",
   "id": "7a8f089d18570fd",
   "metadata": {},
   "source": [
    "To obtain the library while it is under heavy development, you can install from source:\n",
    "    \n",
    "```shell\n",
    "pip install git+https://github.com/trelliscope/trelliscope-py\n",
    "```\n",
    "\n",
    "If you are interested in working on development of the Trelliscope library itself, see the [Contributing](../contributing.md) section.\n"
   ]
  },
  {
   "cell_type": "markdown",
   "id": "b7918c95-8ef7-4f0a-8ecc-fbd4a56a88fd",
   "metadata": {},
   "source": [
    "## Create Iris Trelliscope"
   ]
  },
  {
   "cell_type": "code",
   "execution_count": 1,
   "id": "27af1578-761e-4e14-ade5-ebaa4a306c82",
   "metadata": {},
   "outputs": [
    {
     "data": {
      "text/html": [
       "<div>\n",
       "<style scoped>\n",
       "    .dataframe tbody tr th:only-of-type {\n",
       "        vertical-align: middle;\n",
       "    }\n",
       "\n",
       "    .dataframe tbody tr th {\n",
       "        vertical-align: top;\n",
       "    }\n",
       "\n",
       "    .dataframe thead th {\n",
       "        text-align: right;\n",
       "    }\n",
       "</style>\n",
       "<table border=\"1\" class=\"dataframe\">\n",
       "  <thead>\n",
       "    <tr style=\"text-align: right;\">\n",
       "      <th></th>\n",
       "      <th>index</th>\n",
       "      <th>Sepal.Length</th>\n",
       "      <th>Sepal.Width</th>\n",
       "      <th>Petal.Length</th>\n",
       "      <th>Petal.Width</th>\n",
       "      <th>Species</th>\n",
       "      <th>barchart</th>\n",
       "    </tr>\n",
       "  </thead>\n",
       "  <tbody>\n",
       "    <tr>\n",
       "      <th>0</th>\n",
       "      <td>0</td>\n",
       "      <td>5.1</td>\n",
       "      <td>3.5</td>\n",
       "      <td>1.4</td>\n",
       "      <td>0.2</td>\n",
       "      <td>setosa</td>\n",
       "      <td>Figure({\\n    'data': [{'marker': {'color': 'l...</td>\n",
       "    </tr>\n",
       "    <tr>\n",
       "      <th>1</th>\n",
       "      <td>1</td>\n",
       "      <td>4.9</td>\n",
       "      <td>3.0</td>\n",
       "      <td>1.4</td>\n",
       "      <td>0.2</td>\n",
       "      <td>setosa</td>\n",
       "      <td>Figure({\\n    'data': [{'marker': {'color': 'l...</td>\n",
       "    </tr>\n",
       "    <tr>\n",
       "      <th>2</th>\n",
       "      <td>2</td>\n",
       "      <td>4.7</td>\n",
       "      <td>3.2</td>\n",
       "      <td>1.3</td>\n",
       "      <td>0.2</td>\n",
       "      <td>setosa</td>\n",
       "      <td>Figure({\\n    'data': [{'marker': {'color': 'l...</td>\n",
       "    </tr>\n",
       "    <tr>\n",
       "      <th>3</th>\n",
       "      <td>3</td>\n",
       "      <td>4.6</td>\n",
       "      <td>3.1</td>\n",
       "      <td>1.5</td>\n",
       "      <td>0.2</td>\n",
       "      <td>setosa</td>\n",
       "      <td>Figure({\\n    'data': [{'marker': {'color': 'l...</td>\n",
       "    </tr>\n",
       "    <tr>\n",
       "      <th>4</th>\n",
       "      <td>4</td>\n",
       "      <td>5.0</td>\n",
       "      <td>3.6</td>\n",
       "      <td>1.4</td>\n",
       "      <td>0.2</td>\n",
       "      <td>setosa</td>\n",
       "      <td>Figure({\\n    'data': [{'marker': {'color': 'l...</td>\n",
       "    </tr>\n",
       "    <tr>\n",
       "      <th>...</th>\n",
       "      <td>...</td>\n",
       "      <td>...</td>\n",
       "      <td>...</td>\n",
       "      <td>...</td>\n",
       "      <td>...</td>\n",
       "      <td>...</td>\n",
       "      <td>...</td>\n",
       "    </tr>\n",
       "    <tr>\n",
       "      <th>145</th>\n",
       "      <td>145</td>\n",
       "      <td>6.7</td>\n",
       "      <td>3.0</td>\n",
       "      <td>5.2</td>\n",
       "      <td>2.3</td>\n",
       "      <td>virginica</td>\n",
       "      <td>Figure({\\n    'data': [{'marker': {'color': 'r...</td>\n",
       "    </tr>\n",
       "    <tr>\n",
       "      <th>146</th>\n",
       "      <td>146</td>\n",
       "      <td>6.3</td>\n",
       "      <td>2.5</td>\n",
       "      <td>5.0</td>\n",
       "      <td>1.9</td>\n",
       "      <td>virginica</td>\n",
       "      <td>Figure({\\n    'data': [{'marker': {'color': 'r...</td>\n",
       "    </tr>\n",
       "    <tr>\n",
       "      <th>147</th>\n",
       "      <td>147</td>\n",
       "      <td>6.5</td>\n",
       "      <td>3.0</td>\n",
       "      <td>5.2</td>\n",
       "      <td>2.0</td>\n",
       "      <td>virginica</td>\n",
       "      <td>Figure({\\n    'data': [{'marker': {'color': 'r...</td>\n",
       "    </tr>\n",
       "    <tr>\n",
       "      <th>148</th>\n",
       "      <td>148</td>\n",
       "      <td>6.2</td>\n",
       "      <td>3.4</td>\n",
       "      <td>5.4</td>\n",
       "      <td>2.3</td>\n",
       "      <td>virginica</td>\n",
       "      <td>Figure({\\n    'data': [{'marker': {'color': 'r...</td>\n",
       "    </tr>\n",
       "    <tr>\n",
       "      <th>149</th>\n",
       "      <td>149</td>\n",
       "      <td>5.9</td>\n",
       "      <td>3.0</td>\n",
       "      <td>5.1</td>\n",
       "      <td>1.8</td>\n",
       "      <td>virginica</td>\n",
       "      <td>Figure({\\n    'data': [{'marker': {'color': 'r...</td>\n",
       "    </tr>\n",
       "  </tbody>\n",
       "</table>\n",
       "<p>150 rows × 7 columns</p>\n",
       "</div>"
      ],
      "text/plain": [
       "     index  Sepal.Length  Sepal.Width  Petal.Length  Petal.Width    Species  \\\n",
       "0        0           5.1          3.5           1.4          0.2     setosa   \n",
       "1        1           4.9          3.0           1.4          0.2     setosa   \n",
       "2        2           4.7          3.2           1.3          0.2     setosa   \n",
       "3        3           4.6          3.1           1.5          0.2     setosa   \n",
       "4        4           5.0          3.6           1.4          0.2     setosa   \n",
       "..     ...           ...          ...           ...          ...        ...   \n",
       "145    145           6.7          3.0           5.2          2.3  virginica   \n",
       "146    146           6.3          2.5           5.0          1.9  virginica   \n",
       "147    147           6.5          3.0           5.2          2.0  virginica   \n",
       "148    148           6.2          3.4           5.4          2.3  virginica   \n",
       "149    149           5.9          3.0           5.1          1.8  virginica   \n",
       "\n",
       "                                              barchart  \n",
       "0    Figure({\\n    'data': [{'marker': {'color': 'l...  \n",
       "1    Figure({\\n    'data': [{'marker': {'color': 'l...  \n",
       "2    Figure({\\n    'data': [{'marker': {'color': 'l...  \n",
       "3    Figure({\\n    'data': [{'marker': {'color': 'l...  \n",
       "4    Figure({\\n    'data': [{'marker': {'color': 'l...  \n",
       "..                                                 ...  \n",
       "145  Figure({\\n    'data': [{'marker': {'color': 'r...  \n",
       "146  Figure({\\n    'data': [{'marker': {'color': 'r...  \n",
       "147  Figure({\\n    'data': [{'marker': {'color': 'r...  \n",
       "148  Figure({\\n    'data': [{'marker': {'color': 'r...  \n",
       "149  Figure({\\n    'data': [{'marker': {'color': 'r...  \n",
       "\n",
       "[150 rows x 7 columns]"
      ]
     },
     "execution_count": 1,
     "metadata": {},
     "output_type": "execute_result"
    }
   ],
   "source": [
    "import plotly.graph_objects as go\n",
    "\n",
    "from trelliscope import Trelliscope\n",
    "from trelliscope.examples.get_data import get_example_data\n",
    "\n",
    "\n",
    "def plot_barchart(row):\n",
    "    \"\"\"Plot barchart of sepal and petal size. Bar color depend on the Species shown.\"\"\"\n",
    "    colors = {\"setosa\": \"lightblue\", \"virginica\": \"red\", \"versicolor\": \"darkgreen\"}\n",
    "    color = colors[row[\"Species\"]]\n",
    "    \n",
    "    bar_names = [\"Sepal.Length\", \"Sepal.Width\", \"Petal.Length\", \"Petal.Width\"]\n",
    "    bar_values = [row[col] for col in bar_names]\n",
    "    \n",
    "    fig = go.Figure(\n",
    "        data=go.Bar(x=bar_names, y=bar_values, marker=dict(color=color)),\n",
    "        layout=dict(xaxis_title=\"Dimension\", yaxis_title=\"Size (cm)\")\n",
    "    )\n",
    "    return fig\n",
    "\n",
    "\n",
    "# Load example data included with the trelliscope-py package\n",
    "df = get_example_data(\"iris\")\n",
    "\n",
    "# create dataframe with column of Figure objects\n",
    "df_panels = (\n",
    "    df\n",
    "    .assign(barchart=df.apply(plot_barchart, axis=1))\n",
    "    .reset_index(drop=False)\n",
    ")\n",
    "df_panels"
   ]
  },
  {
   "cell_type": "code",
   "execution_count": 2,
   "id": "f9eabd7a-7746-49ba-8716-4407254ecd36",
   "metadata": {},
   "outputs": [
    {
     "name": "stderr",
     "output_type": "stream",
     "text": [
      "INFO:root:Using ['Species', 'index'] to uniquely identify each row of the data.\n",
      "INFO:root:Saving to C:\\Users\\lodew\\AppData\\Local\\Temp\\tmp5ehv_qkt\\iris\n",
      "INFO:root:No layout definition supplied. Using Default.\n",
      "INFO:root:No labels definition supplied. Using Default.\n",
      "INFO:root:Trelliscope written to `C:\\Users\\lodew\\AppData\\Local\\Temp\\tmp5ehv_qkt\\iris`\n"
     ]
    },
    {
     "data": {
      "text/plain": [
       "A trelliscope display\n",
       "* Name: Iris\n",
       "* Description: Iris\n",
       "* Tags: None\n",
       "* Key columns: ['Species', 'index']\n",
       "---\n",
       "* Path: C:\\Users\\lodew\\AppData\\Local\\Temp\\tmp5ehv_qkt\n",
       "* Number of panels: 1\n",
       "---\n",
       "* Meta Info:"
      ]
     },
     "execution_count": 2,
     "metadata": {},
     "output_type": "execute_result"
    }
   ],
   "source": [
    "# build Trelliscope and view in new browser tab\n",
    "Trelliscope(df_panels, name=\"Iris\", show_progress_bar=False).write_display().view_trelliscope()"
   ]
  },
  {
   "cell_type": "markdown",
   "id": "795085a8-54fc-4201-b83f-5e2f0ce41e8d",
   "metadata": {},
   "source": [
    "#### Expected output\n",
    "\n",
    "Increase the number of panels shown and sort by `Sepal.Width` and see if you can spot the patterns that differentiate flower species."
   ]
  },
  {
   "cell_type": "markdown",
   "id": "50a26013-16c6-40d7-a1da-fb9ecf01f603",
   "metadata": {},
   "source": [
    "![Iris example output](../_static/iris_example_output.png)"
   ]
  },
  {
   "cell_type": "markdown",
   "id": "32126697-c016-42cf-88e4-d250bfb275c7",
   "metadata": {},
   "source": [
    "## TrelliscopeJS demos\n",
    "\n",
    "This example shows how Trelliscope widgets can be shown within Jupyter notebooks, even from remote locations. However, this is not yet working for the latest version of trelliscopejs-lib. As such, this example shows the intended goal.\n",
    "\n",
    "The latest version of Trelliscope uses new data schemas and is packaged differently.\n",
    "\n",
    "Using a previous version of trelliscopejs-lib we can embed the widget in notebooks by displaying the HTML. For this we follow instructions from the TrelliscopeJS documentation here: https://hafen.github.io/trelliscopejs/articles/trelliscopejs.html#embedding-trelliscopejs-apps\n",
    "\n",
    "This can be wrapped into an easy widget. But, how does this work with the latest versions of Trelliscope?\n",
    "\n",
    "| TODO: Use the latest Trelliscope-lib version   |\n",
    "|-----------------------------------------|\n"
   ]
  },
  {
   "cell_type": "code",
   "execution_count": 5,
   "id": "73da39af-26e0-45e4-80b8-f86adefdb9ba",
   "metadata": {},
   "outputs": [],
   "source": [
    "from IPython.display import display, HTML"
   ]
  },
  {
   "cell_type": "markdown",
   "id": "803298a3-fbe0-41a4-a66a-7d3d4a9413fd",
   "metadata": {},
   "source": [
    "### Housing demo"
   ]
  },
  {
   "cell_type": "code",
   "execution_count": 6,
   "id": "d1511b02-5df0-455b-a4be-69b594a335fd",
   "metadata": {},
   "outputs": [
    {
     "data": {
      "text/html": [
       "\n",
       "<head>\n",
       "<meta charset=\"utf-8\"/>\n",
       "<script src=\"https://unpkg.com/trelliscopejs-lib@0.1.12/dist/trelliscope.min.js\"></script>\n",
       "\n",
       "</head>\n",
       "<body>\n",
       "<div id=\"8a43f2dd\" class=\"trelliscope-not-spa\" style=\"width:100%; height:500px;\"></div>\n",
       "<script>\n",
       "  (function() {\n",
       "    trelliscopeApp('8a43f2dd',\n",
       "      'https://hafen.github.io/trelliscopejs-demo/housing/appfiles/config.jsonp');\n",
       "  })();\n",
       "</script>\n",
       "</body>\n"
      ],
      "text/plain": [
       "<IPython.core.display.HTML object>"
      ]
     },
     "metadata": {},
     "output_type": "display_data"
    }
   ],
   "source": [
    "html_string = \"\"\"\n",
    "<head>\n",
    "<meta charset=\"utf-8\"/>\n",
    "<script src=\"https://unpkg.com/trelliscopejs-lib@0.1.12/dist/trelliscope.min.js\"></script>\n",
    "\n",
    "</head>\n",
    "<body>\n",
    "<div id=\"8a43f2dd\" class=\"trelliscope-not-spa\" style=\"width:100%; height:500px;\"></div>\n",
    "<script>\n",
    "  (function() {\n",
    "    trelliscopeApp('8a43f2dd',\n",
    "      'https://hafen.github.io/trelliscopejs-demo/housing/appfiles/config.jsonp');\n",
    "  })();\n",
    "</script>\n",
    "</body>\n",
    "\"\"\"\n",
    "display(HTML(html_string))"
   ]
  },
  {
   "cell_type": "markdown",
   "id": "e8541622-4d68-4675-b8c7-e2a46b9f5013",
   "metadata": {},
   "source": [
    "### Gapminder demo"
   ]
  },
  {
   "cell_type": "code",
   "execution_count": 7,
   "id": "a21766cc-3383-4b00-9e09-ca3b97c414cd",
   "metadata": {
    "ExecuteTime": {
     "end_time": "2024-03-01T10:17:44.557261200Z",
     "start_time": "2024-03-01T10:17:44.374722Z"
    }
   },
   "outputs": [
    {
     "data": {
      "text/html": [
       "\n",
       "<head>\n",
       "<meta charset=\"utf-8\"/>\n",
       "<script src=\"https://unpkg.com/trelliscopejs-lib@0.1.12/dist/trelliscope.min.js\"></script>\n",
       "\n",
       "</head>\n",
       "<body>\n",
       "<div id=\"32b2482a\" class=\"trelliscope-not-spa\" style=\"width:100%; height:500px;\"></div>\n",
       "<script>\n",
       "  (function() {\n",
       "    trelliscopeApp('32b2482a',\n",
       "      'https://hafen.github.io/trelliscopejs-demo/gapminder/appfiles/config.jsonp');\n",
       "  })();\n",
       "</script>\n",
       "</body>\n"
      ],
      "text/plain": [
       "<IPython.core.display.HTML object>"
      ]
     },
     "metadata": {},
     "output_type": "display_data"
    }
   ],
   "source": [
    "html_string = \"\"\"\n",
    "<head>\n",
    "<meta charset=\"utf-8\"/>\n",
    "<script src=\"https://unpkg.com/trelliscopejs-lib@0.1.12/dist/trelliscope.min.js\"></script>\n",
    "\n",
    "</head>\n",
    "<body>\n",
    "<div id=\"32b2482a\" class=\"trelliscope-not-spa\" style=\"width:100%; height:500px;\"></div>\n",
    "<script>\n",
    "  (function() {\n",
    "    trelliscopeApp('32b2482a',\n",
    "      'https://hafen.github.io/trelliscopejs-demo/gapminder/appfiles/config.jsonp');\n",
    "  })();\n",
    "</script>\n",
    "</body>\n",
    "\"\"\"\n",
    "display(HTML(html_string))"
   ]
  },
  {
   "cell_type": "markdown",
   "id": "1e85d132-5c0e-4d5c-a6a3-a88a3cb6528a",
   "metadata": {},
   "source": [
    "### Pokemon"
   ]
  },
  {
   "cell_type": "code",
   "execution_count": 8,
   "id": "f7c75178-bc6c-46e9-b12f-3ef4830805ad",
   "metadata": {},
   "outputs": [
    {
     "data": {
      "text/html": [
       "\n",
       "<head>\n",
       "<meta charset=\"utf-8\"/>\n",
       "<script src=\"https://unpkg.com/trelliscopejs-lib@0.1.12/dist/trelliscope.min.js\"></script>\n",
       "\n",
       "</head>\n",
       "<body>\n",
       "<div id=\"aa7b91b4\" class=\"trelliscope-not-spa\" style=\"width:100%; height:500px;\"></div>\n",
       "<script>\n",
       "  (function() {\n",
       "    trelliscopeApp('aa7b91b4',\n",
       "      'https://hafen.github.io/trelliscopejs-demo/pokemon/appfiles/config.jsonp');\n",
       "  })();\n",
       "</script>\n",
       "</body>\n"
      ],
      "text/plain": [
       "<IPython.core.display.HTML object>"
      ]
     },
     "metadata": {},
     "output_type": "display_data"
    }
   ],
   "source": [
    "html_string = \"\"\"\n",
    "<head>\n",
    "<meta charset=\"utf-8\"/>\n",
    "<script src=\"https://unpkg.com/trelliscopejs-lib@0.1.12/dist/trelliscope.min.js\"></script>\n",
    "\n",
    "</head>\n",
    "<body>\n",
    "<div id=\"aa7b91b4\" class=\"trelliscope-not-spa\" style=\"width:100%; height:500px;\"></div>\n",
    "<script>\n",
    "  (function() {\n",
    "    trelliscopeApp('aa7b91b4',\n",
    "      'https://hafen.github.io/trelliscopejs-demo/pokemon/appfiles/config.jsonp');\n",
    "  })();\n",
    "</script>\n",
    "</body>\n",
    "\"\"\"\n",
    "display(HTML(html_string))"
   ]
  },
  {
   "cell_type": "code",
   "execution_count": null,
   "id": "a40c788f-9b0c-4eb9-8335-4ef1ba3d7d8f",
   "metadata": {},
   "outputs": [],
   "source": []
  }
 ],
 "metadata": {
  "kernelspec": {
   "display_name": "Python [conda env:trelliscope-py]",
   "language": "python",
   "name": "conda-env-trelliscope-py-py"
  },
  "language_info": {
   "codemirror_mode": {
    "name": "ipython",
    "version": 3
   },
   "file_extension": ".py",
   "mimetype": "text/x-python",
   "name": "python",
   "nbconvert_exporter": "python",
   "pygments_lexer": "ipython3",
   "version": "3.10.13"
  }
 },
 "nbformat": 4,
 "nbformat_minor": 5
}
