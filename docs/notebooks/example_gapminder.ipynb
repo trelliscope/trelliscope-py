{
 "cells": [
  {
   "cell_type": "markdown",
   "id": "fcbb3117-70f6-421a-a09c-a84b4c69cd9d",
   "metadata": {},
   "source": [
    "# Example: Gapminder dataset\n",
    "\n",
    "https://www.gapminder.org/data/documentation/\n",
    "\n",
    "Gapminder contains yearly data for countries worldwide. In this example we will be taking a look at the Life Expectancy per country throughout the years."
   ]
  },
  {
   "cell_type": "markdown",
   "id": "a2fd55fc-d997-414c-8187-36b4352f84f0",
   "metadata": {},
   "source": [
    "![Example gapminder trelliscope image](../_static/gapminder_example_output.png)"
   ]
  },
  {
   "cell_type": "markdown",
   "id": "7c8d52fc-185d-448e-b0df-5781edf6ab2f",
   "metadata": {},
   "source": [
    "**Imports**"
   ]
  },
  {
   "cell_type": "code",
   "execution_count": null,
   "id": "450d0ac0-8646-4016-a066-e9962837b617",
   "metadata": {},
   "outputs": [],
   "source": [
    "import pandas as pd\n",
    "import plotly.express as px\n",
    "\n",
    "from trelliscope import Trelliscope\n",
    "from trelliscope.facets import facet_panels\n",
    "from trelliscope.state import NumberRangeFilterState\n",
    "from trelliscope.examples.get_data import get_example_data"
   ]
  },
  {
   "cell_type": "markdown",
   "id": "c7a3edc3-5fdc-41c0-9ae9-8e25129891b3",
   "metadata": {},
   "source": [
    "## Load dataset"
   ]
  },
  {
   "cell_type": "code",
   "execution_count": null,
   "id": "0ec13aa1-f198-49c6-843f-eda7c2f0801b",
   "metadata": {},
   "outputs": [],
   "source": [
    "USE_SMALL_DATASET = True\n",
    "gapminder = get_example_data(\"gapminder\")\n",
    "\n",
    "if USE_SMALL_DATASET:\n",
    "    df = gapminder\n",
    "else:\n",
    "    df = gapminder\n",
    "    \n",
    "df.head()"
   ]
  },
  {
   "cell_type": "markdown",
   "id": "16dd3b89-f368-4066-8c52-ddf1d0a25329",
   "metadata": {},
   "source": [
    "## Create graphs\n",
    "\n",
    "The gapminder data contains timeseries. Let's create a linegraph showing the Life Expectancy over time for each country."
   ]
  },
  {
   "cell_type": "markdown",
   "id": "39856d37-558e-465e-8425-ded63f4f2520",
   "metadata": {},
   "source": [
    "### Generate facet plots\n",
    "\n",
    "Grammar of Graphics. Use `facet_panels()` to create a Plotly graph for each small data frame. \n",
    "\n",
    "1. Decide how you need to group the data, in this case we group the data by `country`, `continent` and `iso_alpha2`. \n",
    "2. Use a plotting function to create a figure for each group. Here we use `px.line` from https://plotly.com/python/line-charts/\n",
    "\n",
    "The output is a grouped dataframe, with a column containing `plotly.Figure` objects."
   ]
  },
  {
   "cell_type": "code",
   "execution_count": null,
   "id": "8a849551-4449-4e5e-bcb4-dd4a298816ee",
   "metadata": {},
   "outputs": [],
   "source": [
    "df_panels = facet_panels(\n",
    "    df=df,\n",
    "    panel_column_name=\"lifeExp_time\",\n",
    "    facet_columns=[\"country\", \"continent\", \"iso_alpha2\"],\n",
    "    plot_function=px.line,\n",
    "    params={\"x\": \"year\", \"y\": \"lifeExp\", \"markers\": True},\n",
    ")\n",
    "df_panels.head()"
   ]
  },
  {
   "cell_type": "markdown",
   "id": "1089420f-a73a-415c-b206-623133333ba0",
   "metadata": {},
   "source": [
    "### Preview a single graph\n",
    "\n",
    "We can select a single figure and preview it before we generate the entire Trelliscope display."
   ]
  },
  {
   "cell_type": "code",
   "execution_count": null,
   "id": "0f980cb1-46b2-4e8e-9bd7-c6a35adadb11",
   "metadata": {},
   "outputs": [],
   "source": [
    "# required to render plotly figure with nbconvert\n",
    "from IPython.display import display, HTML\n",
    "display(HTML('<script src=\"http://requirejs.org/docs/release/2.1.6/comments/require.js\"></script>'))"
   ]
  },
  {
   "cell_type": "code",
   "execution_count": null,
   "id": "625a393b-f73c-41a5-88e8-f3eadb81952e",
   "metadata": {},
   "outputs": [],
   "source": [
    "df_panels.loc[(\"United Kingdom\", \"Europe\", \"GB\"), \"lifeExp_time\"].show()"
   ]
  },
  {
   "cell_type": "markdown",
   "id": "846eed6a-5897-410b-97d5-dae564129761",
   "metadata": {},
   "source": [
    "## Create metadata\n",
    "\n",
    "Each figure is joined with metadata about the data in the graph. To do this we group the data using the same groups as each figure, and then aggregate the data."
   ]
  },
  {
   "cell_type": "code",
   "execution_count": null,
   "id": "faf094da-0dc4-4d6f-b2fb-b0e22fd5858b",
   "metadata": {},
   "outputs": [],
   "source": [
    "# Aggregate statistics per panel\n",
    "df_meta = (\n",
    "    df\n",
    "    .groupby([\"country\", \"continent\", \"iso_alpha2\"])\n",
    "    .agg(\n",
    "        mean_lifeExp=(\"lifeExp\", \"mean\"),\n",
    "        min_lifeExp=(\"lifeExp\", \"min\"),\n",
    "        max_lifeExp=(\"lifeExp\", \"max\"),\n",
    "        mean_gdp=(\"gdpPercap\", \"mean\"),\n",
    "        first_year=(\"year\", \"min\"),\n",
    "        latitude=(\"latitude\", \"first\"),\n",
    "        longitude=(\"longitude\", \"first\"),\n",
    "    )\n",
    "    .reset_index()\n",
    ")\n",
    "\n",
    "# Add additional metadata to each group\n",
    "df_meta = (\n",
    "    df_meta\n",
    "    .assign(\n",
    "        first_data=pd.to_datetime(df_meta[\"first_year\"], format=\"%Y\"),\n",
    "        wiki=df_meta[\"country\"].apply(lambda x: f\"https://en.wikipedia.org/wiki/{x}\")\n",
    "    )\n",
    ")\n",
    "\n"
   ]
  },
  {
   "cell_type": "markdown",
   "id": "ac456b7d-5c3f-4ce1-8246-54c523995a87",
   "metadata": {},
   "source": [
    "## Join panels and metadata\n",
    "\n",
    "Combine the panel figures and their data attributes into a single dataframe to create the `Trelliscope` input data."
   ]
  },
  {
   "cell_type": "code",
   "execution_count": null,
   "id": "7b414928-e339-4e4d-9b25-cc0ef146bd59",
   "metadata": {},
   "outputs": [],
   "source": [
    "# Join metas with panels\n",
    "df_joined = df_panels.merge(df_meta, on=[\"country\", \"continent\", \"iso_alpha2\"], validate=\"1:1\")\n",
    "df_joined.head()"
   ]
  },
  {
   "cell_type": "markdown",
   "id": "5366a24c-1d39-4133-859c-bec9cab71752",
   "metadata": {},
   "source": [
    "## Create Trelliscope\n",
    "\n",
    "Set various parameters explicitly by piping method `Trelliscope`. In this example we create the `Trelliscope` and let it infer which column contains the figure, and which contain meta attributes.\n",
    "\n",
    "Configure the initial settings when opening the Trelliscope display by setting the default label, layout, sorting and filter options. "
   ]
  },
  {
   "cell_type": "code",
   "execution_count": null,
   "id": "0dca24a3-3783-4c7f-a16f-03c30fea1640",
   "metadata": {},
   "outputs": [],
   "source": [
    "\n",
    "tr = (\n",
    "    Trelliscope(df_joined, name=\"gapminder\", show_progress_bar=False)\n",
    "    .set_default_labels([\"country\", \"continent\", \"iso_alpha2\"])\n",
    "    .set_default_layout(3)\n",
    "    .set_default_sort(\n",
    "        [\"continent\", \"mean_lifeExp\"], sort_directions=[\"asc\", \"desc\"]\n",
    "    )\n",
    "    .set_default_filters([NumberRangeFilterState(\"mean_lifeExp\", 30, 60)])\n",
    "    .write_display()\n",
    ")"
   ]
  },
  {
   "cell_type": "code",
   "execution_count": null,
   "id": "3a58cd3f-23ff-4bb8-8cf0-20fcdd01c979",
   "metadata": {},
   "outputs": [],
   "source": [
    "# Open Trelliscope in a new tab\n",
    "tr.view_trelliscope()"
   ]
  },
  {
   "cell_type": "markdown",
   "id": "327093ae-ab59-4b3f-bf70-b7e81d86c157",
   "metadata": {},
   "source": [
    "## Add secondary panel\n",
    "\n",
    "We can add an additional image for each panel, such as the country flags."
   ]
  },
  {
   "cell_type": "markdown",
   "id": "7974726f-7ef4-4a8b-8b5f-97dc5547b89a",
   "metadata": {},
   "source": [
    "### Add flags\n",
    "\n",
    "We create a new dataframe with images in a column, referencing remote image files of country flags."
   ]
  },
  {
   "cell_type": "code",
   "execution_count": null,
   "id": "d9c7c994-0e68-4c9a-8288-cee477ec6905",
   "metadata": {},
   "outputs": [],
   "source": [
    "# The flag column will hold references to the local files\n",
    "flag_base_url = \"https://raw.githubusercontent.com/hafen/countryflags/master/png/512/\"\n",
    "df_flags = (\n",
    "    df_meta\n",
    "    [[\"country\", \"continent\", \"iso_alpha2\"]]\n",
    "    .assign(\n",
    "        # flag=df_meta[\"iso_alpha2\"].apply(lambda x: (local_flags_path / f\"{x}.png\").as_posix()),\n",
    "        flag=df_meta[\"iso_alpha2\"].apply(lambda x: f\"{flag_base_url}{x}.png\")\n",
    "    )\n",
    ")\n",
    "df_flags"
   ]
  },
  {
   "cell_type": "markdown",
   "id": "20339f78-f104-4eac-8ec8-e925e90736ad",
   "metadata": {},
   "source": [
    "## Update Trelliscope"
   ]
  },
  {
   "cell_type": "code",
   "execution_count": null,
   "id": "e9a563f2-2fce-4467-aa0b-284883b891e8",
   "metadata": {},
   "outputs": [],
   "source": [
    "# Join metas with timeseries panels and flag panels\n",
    "df_joined = (\n",
    "    df_panels\n",
    "    .merge(df_meta, on=[\"country\", \"continent\", \"iso_alpha2\"], validate=\"1:1\")\n",
    "    .merge(df_flags, on=[\"country\", \"continent\", \"iso_alpha2\"], validate=\"1:1\")\n",
    ")\n",
    "\n",
    "# Write trelliscope\n",
    "tr_with_flags = (\n",
    "    Trelliscope(df_joined, name=\"gapminder\", show_progress_bar=False)\n",
    "    .set_default_labels([\"country\", \"continent\", \"iso_alpha2\"])\n",
    "    .set_default_layout(3)\n",
    "    .set_default_sort(\n",
    "        [\"continent\", \"mean_lifeExp\"], sort_directions=[\"asc\", \"desc\"]\n",
    "    )\n",
    "    .set_default_filters([NumberRangeFilterState(\"mean_lifeExp\", 30, 60)])\n",
    "    .write_display()\n",
    ")\n",
    "\n",
    "tr_with_flags.view_trelliscope()"
   ]
  },
  {
   "cell_type": "markdown",
   "id": "15b2abb4-d066-4f6f-a9ab-53c06e9325d8",
   "metadata": {},
   "source": [
    "#### Example output\n",
    "\n",
    "You can highlight a panel and find the flag under `Show Additional Panels` in the top-left."
   ]
  },
  {
   "cell_type": "markdown",
   "id": "4e543f7e-71af-4597-b534-45f2fe3885db",
   "metadata": {},
   "source": [
    "![Example gapminder with flags trelliscope image](../_static/gapminder_flag_example_output.png)"
   ]
  },
  {
   "cell_type": "code",
   "execution_count": null,
   "id": "ee4273c7-9861-46c1-8efb-cca1d672fdfe",
   "metadata": {},
   "outputs": [],
   "source": []
  }
 ],
 "metadata": {
  "kernelspec": {
   "display_name": "Python [conda env:trelliscope-py]",
   "language": "python",
   "name": "conda-env-trelliscope-py-py"
  },
  "language_info": {
   "codemirror_mode": {
    "name": "ipython",
    "version": 3
   },
   "file_extension": ".py",
   "mimetype": "text/x-python",
   "name": "python",
   "nbconvert_exporter": "python",
   "pygments_lexer": "ipython3",
   "version": "3.10.13"
  }
 },
 "nbformat": 4,
 "nbformat_minor": 5
}
